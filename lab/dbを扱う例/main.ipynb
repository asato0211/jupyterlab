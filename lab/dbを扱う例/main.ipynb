{
 "cells": [
  {
   "cell_type": "markdown",
   "id": "a22a821e-daf7-452e-b33a-5211807d3fc5",
   "metadata": {},
   "source": [
    "# DBを扱う例"
   ]
  },
  {
   "cell_type": "code",
   "execution_count": 1,
   "id": "04b5e109-6f11-49d0-9496-12e600928870",
   "metadata": {},
   "outputs": [],
   "source": [
    "import sys\n",
    "sys.path.append('../')"
   ]
  },
  {
   "cell_type": "markdown",
   "id": "439772b2-d038-4483-be4c-be5f6c28a95c",
   "metadata": {},
   "source": [
    "## DBエンジンの作成（`.envファイル`にDB情報を設定）"
   ]
  },
  {
   "cell_type": "code",
   "execution_count": null,
   "id": "90d4fd07",
   "metadata": {},
   "outputs": [],
   "source": [
    "from utils.create_null_pool_engine  import create_null_pool_engine\n",
    "engine = create_null_pool_engine()"
   ]
  },
  {
   "cell_type": "markdown",
   "id": "5b8d67a1-7054-4a18-94ab-20d24e8c2304",
   "metadata": {},
   "source": [
    "## SQL文の実行"
   ]
  },
  {
   "cell_type": "code",
   "execution_count": null,
   "id": "12e9b3e5-d62c-4994-a8e8-f6d7f709d2e2",
   "metadata": {},
   "outputs": [],
   "source": [
    "import pandas as pd\n",
    "\n",
    "df = pd.read_sql(\"\"\"\n",
    "SELECT * FROM `users`\n",
    "\"\"\", engine)"
   ]
  },
  {
   "cell_type": "markdown",
   "id": "aedc7983-ccb1-4210-ad79-9b69069dbcde",
   "metadata": {},
   "source": [
    "## CSVで出力する"
   ]
  },
  {
   "cell_type": "code",
   "execution_count": null,
   "id": "0149efc2",
   "metadata": {},
   "outputs": [],
   "source": [
    "from utils.export_csv  import export_csv\n",
    "export_csv(df)"
   ]
  }
 ],
 "metadata": {
  "kernelspec": {
   "display_name": "Python 3 (ipykernel)",
   "language": "python",
   "name": "python3"
  },
  "language_info": {
   "codemirror_mode": {
    "name": "ipython",
    "version": 3
   },
   "file_extension": ".py",
   "mimetype": "text/x-python",
   "name": "python",
   "nbconvert_exporter": "python",
   "pygments_lexer": "ipython3",
   "version": "3.11.5"
  }
 },
 "nbformat": 4,
 "nbformat_minor": 5
}
